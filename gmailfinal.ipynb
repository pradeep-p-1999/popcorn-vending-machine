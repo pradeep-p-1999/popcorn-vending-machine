{
 "cells": [
  {
   "cell_type": "code",
   "execution_count": null,
   "metadata": {},
   "outputs": [],
   "source": [
    "import imaplib\n",
    "\n",
    "def readgmail():\n",
    "    # Login to INBOX\n",
    "    imap = imaplib.IMAP4_SSL(\"imap.gmail.com\", 993)\n",
    "    imap.login(mail_id,password)\n",
    "    imap.select('INBOX')\n",
    "\n",
    "    # Use search(), not status()\n",
    "    status, response = imap.uid('search', None,'(UNSEEN)' )\n",
    "    unread_msg_nums = response[0].split()\n",
    "\n",
    "    # Print the count of all unread messages\n",
    "    print (len(unread_msg_nums))\n",
    "\n",
    "    # Print all unread messages from a certain sender of interest\n",
    "    status, response = imap.search(None, '(UNSEEN)', '(FROM \"%s\")' % ('pradeep.17ei@kct.ac.in'))\n",
    "    unread_msg_nums = response[0].split()\n",
    "    da = []\n",
    "    for e_id in unread_msg_nums:\n",
    "        _, response = imap.fetch(e_id, '(UID BODY[TEXT])')\n",
    "        da.append(response[0][1])\n",
    "    print (da)\n",
    "\n",
    "    # Mark them as seen\n",
    "    for e_id in unread_msg_nums:\n",
    "        imap.store(e_id, '+FLAGS', '\\\\Seen')\n",
    "readgmail()"
   ]
  }
 ],
 "metadata": {
  "kernelspec": {
   "display_name": "Python 3",
   "language": "python",
   "name": "python3"
  },
  "language_info": {
   "codemirror_mode": {
    "name": "ipython",
    "version": 3
   },
   "file_extension": ".py",
   "mimetype": "text/x-python",
   "name": "python",
   "nbconvert_exporter": "python",
   "pygments_lexer": "ipython3",
   "version": "3.5.5"
  }
 },
 "nbformat": 4,
 "nbformat_minor": 2
}
