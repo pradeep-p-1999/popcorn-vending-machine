{
 "cells": [
  {
   "cell_type": "code",
   "execution_count": 16,
   "metadata": {},
   "outputs": [
    {
     "name": "stdout",
     "output_type": "stream",
     "text": [
      "[Feed(name='eclinic', key='eclinic', description=None, unit_type=None, unit_symbol=None, history=True, visibility='private', license=None, status_notify=False, status_timeout=60), Feed(name='test', key='test', description=None, unit_type=None, unit_symbol=None, history=True, visibility='private', license=None, status_notify=False, status_timeout=60), Feed(name='Voltage', key='voltage', description=None, unit_type=None, unit_symbol=None, history=True, visibility='private', license=None, status_notify=False, status_timeout=60), Feed(name='Current', key='current', description=None, unit_type=None, unit_symbol=None, history=True, visibility='private', license=None, status_notify=False, status_timeout=60), Feed(name='Power', key='power', description=None, unit_type=None, unit_symbol=None, history=True, visibility='private', license=None, status_notify=False, status_timeout=60), Feed(name='Energy', key='energy', description=None, unit_type=None, unit_symbol=None, history=True, visibility='private', license=None, status_notify=False, status_timeout=60), Feed(name='pwm', key='pwm', description=None, unit_type=None, unit_symbol=None, history=True, visibility='private', license=None, status_notify=False, status_timeout=4320), Feed(name='temp', key='temp', description=None, unit_type=None, unit_symbol=None, history=True, visibility='private', license=None, status_notify=False, status_timeout=4320), Feed(name='vend_main', key='vend-main', description=None, unit_type=None, unit_symbol=None, history=True, visibility='private', license=None, status_notify=False, status_timeout=4320), Feed(name='foo', key='foo', description=None, unit_type=None, unit_symbol=None, history=True, visibility='private', license=None, status_notify=False, status_timeout=4320)]\n"
     ]
    },
    {
     "data": {
      "text/plain": [
       "Data(created_epoch=1606815917, created_at='2020-12-01T09:45:17Z', updated_at=None, value='ghdlfdagl', completed_at=None, feed_id=1507255, expiration='2020-12-31T09:45:17Z', position=None, id='0EKMMEQ31KRDJCE6855RVW9SBS', lat=None, lon=None, ele=None)"
      ]
     },
     "execution_count": 16,
     "metadata": {},
     "output_type": "execute_result"
    }
   ],
   "source": [
    "from Adafruit_IO import Client, Feed, Data ,RequestError\n",
    "ADAFRUIT_IO_KEY = '98d8e80324b24feab45c3970bc89000b'\n",
    "ADAFRUIT_IO_USERNAME = username\n",
    "aio = Client(ADAFRUIT_IO_USERNAME, ADAFRUIT_IO_KEY)\n",
    "feeds = aio.feeds()\n",
    "print(feeds)\n",
    "aio.send_data('vend-main', \"ghdlfdagl\")"
   ]
  },
  {
   "cell_type": "code",
   "execution_count": null,
   "metadata": {},
   "outputs": [],
   "source": []
  }
 ],
 "metadata": {
  "kernelspec": {
   "display_name": "Python 3",
   "language": "python",
   "name": "python3"
  },
  "language_info": {
   "codemirror_mode": {
    "name": "ipython",
    "version": 3
   },
   "file_extension": ".py",
   "mimetype": "text/x-python",
   "name": "python",
   "nbconvert_exporter": "python",
   "pygments_lexer": "ipython3",
   "version": "3.5.5"
  }
 },
 "nbformat": 4,
 "nbformat_minor": 2
}
